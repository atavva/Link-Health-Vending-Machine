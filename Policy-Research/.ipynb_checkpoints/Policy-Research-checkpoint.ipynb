{
 "cells": [
  {
   "cell_type": "markdown",
   "id": "29b1192c",
   "metadata": {},
   "source": [
    "<h1> Link Health Vending Machine Policy Research </h1>"
   ]
  },
  {
   "cell_type": "code",
   "execution_count": null,
   "id": "94845693",
   "metadata": {},
   "outputs": [],
   "source": [
    "import pandas as pd\n",
    "import numpy as np\n",
    "import requests\n",
    "import csv\n",
    "import warnings\n",
    "warnings.simplefilter('ignore') #Turn off warnings"
   ]
  },
  {
   "cell_type": "code",
   "execution_count": null,
   "id": "9dc8e69b",
   "metadata": {},
   "outputs": [],
   "source": []
  }
 ],
 "metadata": {
  "kernelspec": {
   "display_name": "Python 3 (ipykernel)",
   "language": "python",
   "name": "python3"
  },
  "language_info": {
   "codemirror_mode": {
    "name": "ipython",
    "version": 3
   },
   "file_extension": ".py",
   "mimetype": "text/x-python",
   "name": "python",
   "nbconvert_exporter": "python",
   "pygments_lexer": "ipython3",
   "version": "3.9.13"
  }
 },
 "nbformat": 4,
 "nbformat_minor": 5
}
